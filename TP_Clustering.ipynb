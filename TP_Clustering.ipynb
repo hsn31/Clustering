{
  "nbformat": 4,
  "nbformat_minor": 0,
  "metadata": {
    "colab": {
      "name": "TP Clustering.ipynb",
      "provenance": [],
      "collapsed_sections": [],
      "include_colab_link": true
    },
    "kernelspec": {
      "display_name": "Python 3",
      "name": "python3"
    }
  },
  "cells": [
    {
      "cell_type": "markdown",
      "metadata": {
        "id": "view-in-github",
        "colab_type": "text"
      },
      "source": [
        "<a href=\"https://colab.research.google.com/github/hsn31/Clustering/blob/main/TP_Clustering.ipynb\" target=\"_parent\"><img src=\"https://colab.research.google.com/assets/colab-badge.svg\" alt=\"Open In Colab\"/></a>"
      ]
    },
    {
      "cell_type": "markdown",
      "metadata": {
        "id": "OoQPAyleC41A"
      },
      "source": [
        "# TP Clustering"
      ]
    },
    {
      "cell_type": "markdown",
      "metadata": {
        "id": "Yi574ssboRc_"
      },
      "source": [
        "**2020-2021 \n",
        "5 SDBD A2**\n",
        "\n",
        "\n",
        "\n",
        "---\n",
        "\n"
      ]
    },
    {
      "cell_type": "markdown",
      "metadata": {
        "id": "VbY2Kf8CC_L-"
      },
      "source": [
        "Le but de ces TP est mettre en oeuvre et de comparer différents algorithmes de clustering tout d’abord à partir de quelques méthodes fournies par scikitlearn puis en utilisant une méthode externe :\n",
        "\n",
        "\n",
        "*   k-Means\n",
        "*   clustering hiérarchique (agglomératif)\n",
        "*   DBSCAN\n",
        "*   HDBSCAN\n",
        "\n",
        "\n",
        "Nous utilisons des jeux de données \"artificiels\" en seulement 2 dimensions pour des raisons pédagogiques. En effet, en visualisant ces exemples, il est souvent assez évident de déterminer le bon nombre\n",
        "de clusters à obtenir"
      ]
    },
    {
      "cell_type": "markdown",
      "metadata": {
        "id": "OZ-QJDBxDU1j"
      },
      "source": [
        "# 1 Jeux de données"
      ]
    },
    {
      "cell_type": "code",
      "metadata": {
        "id": "qdaGuOEFCUYt"
      },
      "source": [
        "import sklearn\n",
        "from scipy.io import arff"
      ],
      "execution_count": 1,
      "outputs": []
    },
    {
      "cell_type": "markdown",
      "metadata": {
        "id": "ki4ryFQaFNpX"
      },
      "source": [
        "Importation des fichiers "
      ]
    },
    {
      "cell_type": "code",
      "metadata": {
        "id": "W1KubDQqCinN",
        "outputId": "390b031b-84f2-4154-c209-1a7c7156bcb7",
        "colab": {
          "base_uri": "https://localhost:8080/"
        }
      },
      "source": [
        "from google.colab import drive\n",
        "drive.mount('/content/gdrive/')"
      ],
      "execution_count": 2,
      "outputs": [
        {
          "output_type": "stream",
          "text": [
            "Drive already mounted at /content/gdrive/; to attempt to forcibly remount, call drive.mount(\"/content/gdrive/\", force_remount=True).\n"
          ],
          "name": "stdout"
        }
      ]
    },
    {
      "cell_type": "code",
      "metadata": {
        "id": "EHYBZSkfF7oM",
        "outputId": "5a742b11-9209-47f9-c272-b8c5bce49bdb",
        "colab": {
          "base_uri": "https://localhost:8080/"
        }
      },
      "source": [
        "import os\n",
        "os.chdir(\"/content/gdrive/My Drive/5SDBD/clustering-benchmark-master\")\n",
        "!ls"
      ],
      "execution_count": 3,
      "outputs": [
        {
          "output_type": "stream",
          "text": [
            " consensus   nb-configuration.xml   README-old.asc\t   updreadme.rb\n",
            " dataset     pom.xml\t\t    run\n",
            " evolve-sc  'putain de tp.ipynb'    src\n",
            " hdbscan     README.md\t\t   'TP Clustering.ipynb'\n"
          ],
          "name": "stdout"
        }
      ]
    },
    {
      "cell_type": "code",
      "metadata": {
        "id": "1DgwpbqNITsN",
        "outputId": "8c6abf30-29db-4c9e-8695-7af77faca956",
        "colab": {
          "base_uri": "https://localhost:8080/"
        }
      },
      "source": [
        "test= os.chdir(\"/content/gdrive/My Drive/5SDBD/clustering-benchmark-master/src/main/resources/datasets/artificial\")\n",
        "!ls"
      ],
      "execution_count": 4,
      "outputs": [
        {
          "output_type": "stream",
          "text": [
            "2d-10c.arff\t       disk-3000n.arff\t     simplex.arff\n",
            "2d-20c-no0.arff        disk-4000n.arff\t     sizes1.arff\n",
            "2d-3c-no123.arff       disk-4500n.arff\t     sizes2.arff\n",
            "2d-4c.arff\t       disk-4600n.arff\t     sizes3.arff\n",
            "2d-4c-no4.arff\t       disk-5000n.arff\t     sizes4.arff\n",
            "2d-4c-no9.arff\t       disk-6000n.arff\t     sizes5.arff\n",
            "2dnormals.arff\t       donut1.arff\t     smile1.arff\n",
            "2sp2glob.arff\t       donut2.arff\t     smile2.arff\n",
            "3MC.arff\t       donut3.arff\t     smile3.arff\n",
            "3-spiral.arff\t       donutcurves.arff      spherical_4_3.arff\n",
            "aggregation.arff       dpb.arff\t\t     spherical_5_2.arff\n",
            "aml28.arff\t       dpc.arff\t\t     spherical_6_2.arff\n",
            "atom.arff\t       ds2c2sc13.arff\t     spiral.arff\n",
            "banana.arff\t       ds3c3sc6.arff\t     spiralsquare.arff\n",
            "birch-rg1.arff\t       ds4c2sc8.arff\t     square1.arff\n",
            "birch-rg2.arff\t       DS-577.arff\t     square2.arff\n",
            "birch-rg3.arff\t       DS-850.arff\t     square3.arff\n",
            "blobs.arff\t       elliptical_10_2.arff  square4.arff\n",
            "cassini.arff\t       elly-2d10c13s.arff    square5.arff\n",
            "chainlink.arff\t       engytime.arff\t     s-set1.arff\n",
            "circle.arff\t       flame.arff\t     s-set2.arff\n",
            "cluto-t4-8k.arff       fourty.arff\t     s-set3.arff\n",
            "cluto-t5-8k.arff       gaussians1.arff\t     s-set4.arff\n",
            "cluto-t7-10k.arff      golfball.arff\t     st900.arff\n",
            "cluto-t8-8k.arff       hepta.arff\t     target.arff\n",
            "complex8.arff\t       hypercube.arff\t     tetra.arff\n",
            "complex9.arff\t       impossible.arff\t     threenorm.arff\n",
            "compound.arff\t       insect.arff\t     triangle1.arff\n",
            "cuboids.arff\t       jain.arff\t     triangle2.arff\n",
            "cure-t0-2000n-2D.arff  long1.arff\t     twenty.arff\n",
            "cure-t1-2000n-2D.arff  long2.arff\t     twodiamonds.arff\n",
            "cure-t2-4k.arff        long3.arff\t     wingnut.arff\n",
            "curves1.arff\t       longsquare.arff\t     xclara.arff\n",
            "curves2.arff\t       lsun.arff\t     xor.arff\n",
            "D31.arff\t       mopsi-finland.arff    zelnik1.arff\n",
            "dartboard1.arff        mopsi-joensuu.arff    zelnik2.arff\n",
            "dartboard2.arff        pathbased.arff\t     zelnik3.arff\n",
            "dense-disk-3000.arff   pmf.arff\t\t     zelnik4.arff\n",
            "dense-disk-5000.arff   R15.arff\t\t     zelnik5.arff\n",
            "diamond9.arff\t       rings.arff\t     zelnik6.arff\n",
            "disk-1000n.arff        shapes.arff\n"
          ],
          "name": "stdout"
        }
      ]
    },
    {
      "cell_type": "code",
      "metadata": {
        "id": "QY4_v1dZKB75"
      },
      "source": [
        "data = arff.loadarff(open('/content/gdrive/My Drive/5SDBD/clustering-benchmark-master/src/main/resources/datasets/artificial/xclara.arff','r'))[0]\n",
        "data1 = arff.loadarff(open('/content/gdrive/My Drive/5SDBD/clustering-benchmark-master/src/main/resources/datasets/artificial/2d-10c.arff','r'))[0]\n",
        "data2 = arff.loadarff(open('/content/gdrive/My Drive/5SDBD/clustering-benchmark-master/src/main/resources/datasets/artificial/s-set4.arff','r'))[0]\n",
        "data3 = arff.loadarff(open('/content/gdrive/My Drive/5SDBD/clustering-benchmark-master/src/main/resources/datasets/artificial/dartboard1.arff','r'))[0]\n",
        "data4 = arff.loadarff(open('/content/gdrive/My Drive/5SDBD/clustering-benchmark-master/src/main/resources/datasets/artificial/2sp2glob.arff','r'))[0]\n",
        "disk3000n = arff.loadarff(open('/content/gdrive/My Drive/5SDBD/clustering-benchmark-master/src/main/resources/datasets/artificial/disk-3000n.arff','r'))[0]\n",
        "engytime = arff.loadarff(open('/content/gdrive/My Drive/5SDBD/clustering-benchmark-master/src/main/resources/datasets/artificial/engytime.arff','r'))[0]\n",
        "clutot48k = arff.loadarff(open('/content/gdrive/My Drive/5SDBD/clustering-benchmark-master/src/main/resources/datasets/artificial/cluto-t4-8k.arff','r'))[0]\n",
        "d31 = arff.loadarff(open('/content/gdrive/My Drive/5SDBD/clustering-benchmark-master/src/main/resources/datasets/artificial/D31.arff','r'))[0]\n",
        "zelnik = arff.loadarff(open('/content/gdrive/My Drive/5SDBD/clustering-benchmark-master/src/main/resources/datasets/artificial/zelnik3.arff','r'))[0]"
      ],
      "execution_count": 64,
      "outputs": []
    },
    {
      "cell_type": "code",
      "metadata": {
        "id": "JDsn25r4V9wl"
      },
      "source": [
        "#print(data)"
      ],
      "execution_count": 65,
      "outputs": []
    },
    {
      "cell_type": "code",
      "metadata": {
        "id": "dJ8gvI8opTj9"
      },
      "source": [
        "nb_clusters = 4\n",
        "data = data3"
      ],
      "execution_count": 58,
      "outputs": []
    },
    {
      "cell_type": "code",
      "metadata": {
        "id": "5VesnH07L6wi",
        "outputId": "7f036938-d6d7-489e-89ea-c2cc9255f02f",
        "colab": {
          "base_uri": "https://localhost:8080/",
          "height": 265
        }
      },
      "source": [
        "import matplotlib.pyplot as plt\n",
        "import numpy as np\n",
        "\n",
        "for i in data:\n",
        "  plt.scatter(i[0], i[1], color='b');"
      ],
      "execution_count": 59,
      "outputs": [
        {
          "output_type": "display_data",
          "data": {
            "image/png": "[encoded data removed]",
            "text/plain": [
              "<Figure size 432x288 with 1 Axes>"
            ]
          },
          "metadata": {
            "tags": [],
            "needs_background": "light"
          }
        }
      ]
    },
    {
      "cell_type": "markdown",
      "metadata": {
        "id": "LYihk0giHgSF"
      },
      "source": [
        "# 2 Clustering k-Means"
      ]
    },
    {
      "cell_type": "markdown",
      "metadata": {
        "id": "ozo4OybQYVPn"
      },
      "source": [
        "## 2.1 Interêts de la méthode\n"
      ]
    },
    {
      "cell_type": "code",
      "metadata": {
        "id": "fwL_gxlgYXmj"
      },
      "source": [
        "from sklearn.cluster import KMeans\n",
        "from sklearn import metrics\n",
        "from sklearn.metrics import davies_bouldin_score\n",
        "import time"
      ],
      "execution_count": 9,
      "outputs": []
    },
    {
      "cell_type": "code",
      "metadata": {
        "id": "F-gD6YdLZ6DM"
      },
      "source": [
        "#Transformer les datas en list "
      ],
      "execution_count": 10,
      "outputs": []
    },
    {
      "cell_type": "code",
      "metadata": {
        "id": "kesYdn99h8vU",
        "outputId": "51b11bc2-3f25-45aa-e751-3fe1133bdc27",
        "colab": {
          "base_uri": "https://localhost:8080/"
        }
      },
      "source": [
        "def returnData(data):\n",
        "  X = np.zeros((data.size,2))\n",
        "  i = 0\n",
        "  for d in data:\n",
        "    X[i] = [d[0], d[1]]\n",
        "    i = i +1\n",
        "  return X\n",
        "\n",
        "X = returnData(data)\n",
        "print(X)"
      ],
      "execution_count": 11,
      "outputs": [
        {
          "output_type": "stream",
          "text": [
            "[[  2.072345  -3.241693]\n",
            " [ 17.93671   15.78481 ]\n",
            " [  1.083576   7.319176]\n",
            " ...\n",
            " [ 64.46532  -10.50136 ]\n",
            " [ 90.72282  -12.25584 ]\n",
            " [ 64.87976  -24.87731 ]]\n"
          ],
          "name": "stdout"
        }
      ]
    },
    {
      "cell_type": "markdown",
      "metadata": {
        "id": "53PJdfui1IXj"
      },
      "source": [
        ""
      ]
    },
    {
      "cell_type": "code",
      "metadata": {
        "id": "K_2b-TIqZDMl",
        "outputId": "6e7bdab7-f132-424c-cbdc-ffef383573cd",
        "colab": {
          "base_uri": "https://localhost:8080/"
        }
      },
      "source": [
        "#init='k-means++'\n",
        "#kmeans = KMeans(n_clusters=init)\n",
        "#kmeans.fit(X)\n",
        "\n",
        "kmeans_data=returnData(data)\n",
        "kmeans = KMeans(n_clusters=nb_clusters, random_state=0, init='k-means++').fit(kmeans_data)\n",
        "print(kmeans)\n",
        "labels = kmeans.labels_"
      ],
      "execution_count": 12,
      "outputs": [
        {
          "output_type": "stream",
          "text": [
            "KMeans(algorithm='auto', copy_x=True, init='k-means++', max_iter=300,\n",
            "       n_clusters=4, n_init=10, n_jobs=None, precompute_distances='auto',\n",
            "       random_state=0, tol=0.0001, verbose=0)\n"
          ],
          "name": "stdout"
        }
      ]
    },
    {
      "cell_type": "code",
      "metadata": {
        "id": "wh0Q9Lw1kttA",
        "outputId": "7e73602b-702d-4183-fa13-42f9fc376400",
        "colab": {
          "base_uri": "https://localhost:8080/",
          "height": 282
        }
      },
      "source": [
        "plt.scatter(kmeans_data[:,0],kmeans_data[:,1], c=labels, cmap='rainbow')"
      ],
      "execution_count": 13,
      "outputs": [
        {
          "output_type": "execute_result",
          "data": {
            "text/plain": [
              "<matplotlib.collections.PathCollection at 0x7ff15ccb6198>"
            ]
          },
          "metadata": {
            "tags": []
          },
          "execution_count": 13
        },
        {
          "output_type": "display_data",
          "data": {
            "image/png": "[encoded data removed]",
            "text/plain": [
              "<Figure size 432x288 with 1 Axes>"
            ]
          },
          "metadata": {
            "tags": [],
            "needs_background": "light"
          }
        }
      ]
    },
    {
      "cell_type": "markdown",
      "metadata": {
        "id": "g1Pjg2MKoawc"
      },
      "source": [
        "On considère maintenant qu’il peut être possible de déterminer \"automatiquement\" le bon nombre de clusters. Identifiez pour cela dans la documentation de scikitlearn les métriques qui vous semblent pertinentes"
      ]
    },
    {
      "cell_type": "markdown",
      "metadata": {
        "id": "eKKXSp_JodlY"
      },
      "source": [
        "- Silhouette coefficient\n",
        "- Calinski-Harabasz Index\n",
        "- Davies-Bouldin Index\n",
        "\n",
        "On peut utiliser uniquement les métriques n'ayant pas besoin de \"vrai label\"\n"
      ]
    },
    {
      "cell_type": "code",
      "metadata": {
        "id": "Pr-SDzzlKzqF"
      },
      "source": [
        "import numpy as np\n",
        "import matplotlib.pyplot as plt\n",
        "\n",
        "plot0 = []\n",
        "exec0 =[]\n",
        "\n",
        "plot1 = []\n",
        "exec1 =[]\n",
        "\n",
        "plot2 = []\n",
        "exec2 =[]"
      ],
      "execution_count": 14,
      "outputs": []
    },
    {
      "cell_type": "markdown",
      "metadata": {
        "id": "lyzHkvgRsIIn"
      },
      "source": [
        "-  Silhouette coefficient\n"
      ]
    },
    {
      "cell_type": "code",
      "metadata": {
        "id": "GSm-zpUPsNDY",
        "outputId": "14ded6c1-c4e0-4d29-b12c-53c682e47d2e",
        "colab": {
          "base_uri": "https://localhost:8080/",
          "height": 433
        }
      },
      "source": [
        "res = []\n",
        "k=[]\n",
        "for i in range (2,11):\n",
        "  start_time = time.time()\n",
        "  kmeans = KMeans(n_clusters=i, random_state=0, init='k-means++').fit(kmeans_data)\n",
        "  end_time = time.time()\n",
        "  time_final0  = end_time - start_time\n",
        "  labels = kmeans.labels_\n",
        "  met0 = metrics.silhouette_score(kmeans_data, labels, metric='euclidean')\n",
        "  Dict = dict({'k': i, 'silhouette score': met0, 'execution time': time_final0})\n",
        "  res.append(Dict)\n",
        "  k.append(i)\n",
        "\n",
        "  plot0.append(met0)\n",
        "  exec0.append(time_final0)\n",
        "print(*res, sep = \"\\n\")\n",
        "\n",
        "plt.plot(k, plot0)"
      ],
      "execution_count": 15,
      "outputs": [
        {
          "output_type": "stream",
          "text": [
            "{'k': 2, 'silhouette score': 0.542435069970526, 'execution time': 0.0339207649230957}\n",
            "{'k': 3, 'silhouette score': 0.6945587736089913, 'execution time': 0.02866816520690918}\n",
            "{'k': 4, 'silhouette score': 0.5409711653329833, 'execution time': 0.07099413871765137}\n",
            "{'k': 5, 'silhouette score': 0.4100704118378745, 'execution time': 0.0683126449584961}\n",
            "{'k': 6, 'silhouette score': 0.3105817604300826, 'execution time': 0.08555150032043457}\n",
            "{'k': 7, 'silhouette score': 0.32055728220683294, 'execution time': 0.1092214584350586}\n",
            "{'k': 8, 'silhouette score': 0.33168575518093324, 'execution time': 0.12074661254882812}\n",
            "{'k': 9, 'silhouette score': 0.3412131655306691, 'execution time': 0.13193845748901367}\n",
            "{'k': 10, 'silhouette score': 0.33561837584939264, 'execution time': 0.15323638916015625}\n"
          ],
          "name": "stdout"
        },
        {
          "output_type": "execute_result",
          "data": {
            "text/plain": [
              "[<matplotlib.lines.Line2D at 0x7ff15a429b38>]"
            ]
          },
          "metadata": {
            "tags": []
          },
          "execution_count": 15
        },
        {
          "output_type": "display_data",
          "data": {
            "image/png": "[encoded data removed]",
            "text/plain": [
              "<Figure size 432x288 with 1 Axes>"
            ]
          },
          "metadata": {
            "tags": [],
            "needs_background": "light"
          }
        }
      ]
    },
    {
      "cell_type": "code",
      "metadata": {
        "id": "0U346oSnMiIy",
        "outputId": "18f337b4-b861-4e1d-8505-a0c2ba7e223c",
        "colab": {
          "base_uri": "https://localhost:8080/",
          "height": 282
        }
      },
      "source": [
        " plt.plot(k, exec0 ,label=\"Silhouette\")"
      ],
      "execution_count": 16,
      "outputs": [
        {
          "output_type": "execute_result",
          "data": {
            "text/plain": [
              "[<matplotlib.lines.Line2D at 0x7ff15a418eb8>]"
            ]
          },
          "metadata": {
            "tags": []
          },
          "execution_count": 16
        },
        {
          "output_type": "display_data",
          "data": {
            "image/png": "[encoded data removed]",
            "text/plain": [
              "<Figure size 432x288 with 1 Axes>"
            ]
          },
          "metadata": {
            "tags": [],
            "needs_background": "light"
          }
        }
      ]
    },
    {
      "cell_type": "markdown",
      "metadata": {
        "id": "WZPOX4S4tLCG"
      },
      "source": [
        "- Calinski-Harabasz Index\n"
      ]
    },
    {
      "cell_type": "code",
      "metadata": {
        "id": "us8qAzKFtPBB",
        "outputId": "585bafb3-99f6-4bfc-c6c1-e47a92c5ebe2",
        "colab": {
          "base_uri": "https://localhost:8080/",
          "height": 433
        }
      },
      "source": [
        "res = []\n",
        "for i in range (2,11):\n",
        "  start_time = time.time()\n",
        "  kmeans = KMeans(n_clusters=i, random_state=0, init='k-means++').fit(kmeans_data)\n",
        "  end_time = time.time()\n",
        "  time_final1  = end_time - start_time\n",
        "  labels = kmeans.labels_\n",
        "  met1 = metrics.calinski_harabasz_score(kmeans_data, labels)\n",
        "  \n",
        "  Dict = dict({'k': i, 'Calinski Harabasz score': met1, 'execution time': time_final1})\n",
        "  res.append(Dict)\n",
        "\n",
        "  plot1.append(met1)\n",
        "  exec1.append(time_final1)\n",
        "\n",
        "print(*res, sep = \"\\n\")\n",
        "plt.plot(k, plot1 ,label=\"Calinski Harabasz\")\n"
      ],
      "execution_count": 17,
      "outputs": [
        {
          "output_type": "stream",
          "text": [
            "{'k': 2, 'Calinski Harabasz score': 3530.715935988991, 'execution time': 0.033740997314453125}\n",
            "{'k': 3, 'Calinski Harabasz score': 10826.600579461165, 'execution time': 0.02956867218017578}\n",
            "{'k': 4, 'Calinski Harabasz score': 8382.335153907985, 'execution time': 0.058539390563964844}\n",
            "{'k': 5, 'Calinski Harabasz score': 7266.835445816175, 'execution time': 0.06628918647766113}\n",
            "{'k': 6, 'Calinski Harabasz score': 6787.707732946798, 'execution time': 0.08506298065185547}\n",
            "{'k': 7, 'Calinski Harabasz score': 6497.241561919068, 'execution time': 0.10742497444152832}\n",
            "{'k': 8, 'Calinski Harabasz score': 6470.570823214944, 'execution time': 0.1223287582397461}\n",
            "{'k': 9, 'Calinski Harabasz score': 6548.682981513098, 'execution time': 0.13115501403808594}\n",
            "{'k': 10, 'Calinski Harabasz score': 6295.897066875034, 'execution time': 0.1479027271270752}\n"
          ],
          "name": "stdout"
        },
        {
          "output_type": "execute_result",
          "data": {
            "text/plain": [
              "[<matplotlib.lines.Line2D at 0x7ff15a38d550>]"
            ]
          },
          "metadata": {
            "tags": []
          },
          "execution_count": 17
        },
        {
          "output_type": "display_data",
          "data": {
            "image/png": "[encoded data removed]",
            "text/plain": [
              "<Figure size 432x288 with 1 Axes>"
            ]
          },
          "metadata": {
            "tags": [],
            "needs_background": "light"
          }
        }
      ]
    },
    {
      "cell_type": "markdown",
      "metadata": {
        "id": "LzheN1N2tWSz"
      },
      "source": [
        "- Davies-Bouldin Index "
      ]
    },
    {
      "cell_type": "code",
      "metadata": {
        "id": "XMMSUK41tXTq",
        "outputId": "c1cdb01b-3176-4650-9e89-545d546bbb55",
        "colab": {
          "base_uri": "https://localhost:8080/",
          "height": 433
        }
      },
      "source": [
        "res = []\n",
        "for i in range (2,11):\n",
        "  start_time = time.time()\n",
        "  kmeans = KMeans(n_clusters=i, random_state=0, init='k-means++').fit(kmeans_data)\n",
        "  end_time = time.time()\n",
        "  time_final2  = end_time - start_time\n",
        "  labels = kmeans.labels_\n",
        "  met2 = davies_bouldin_score(kmeans_data, labels)\n",
        "  Dict = dict({'k': i, 'Davies Bouldin score': met2, 'execution time': time_final2})\n",
        "  res.append(Dict)\n",
        "\n",
        "  plot2.append(met2)\n",
        "  exec2.append(time_final2)\n",
        "\n",
        "print(*res, sep = \"\\n\")\n",
        "\n",
        "plt.plot(k, plot2 ,label=\"Davies Bouldin\")"
      ],
      "execution_count": 18,
      "outputs": [
        {
          "output_type": "stream",
          "text": [
            "{'k': 2, 'Davies Bouldin score': 0.6777307283608246, 'execution time': 0.03469657897949219}\n",
            "{'k': 3, 'Davies Bouldin score': 0.42056158508478453, 'execution time': 0.027524471282958984}\n",
            "{'k': 4, 'Davies Bouldin score': 0.8190632935327737, 'execution time': 0.05766725540161133}\n",
            "{'k': 5, 'Davies Bouldin score': 1.0860974514674064, 'execution time': 0.06820964813232422}\n",
            "{'k': 6, 'Davies Bouldin score': 1.2387054465419558, 'execution time': 0.08960962295532227}\n",
            "{'k': 7, 'Davies Bouldin score': 1.1100100909514357, 'execution time': 0.10670328140258789}\n",
            "{'k': 8, 'Davies Bouldin score': 0.9966075445691914, 'execution time': 0.11961770057678223}\n",
            "{'k': 9, 'Davies Bouldin score': 0.9202675263207174, 'execution time': 0.134413480758667}\n",
            "{'k': 10, 'Davies Bouldin score': 0.9258144248214062, 'execution time': 0.17244768142700195}\n"
          ],
          "name": "stdout"
        },
        {
          "output_type": "execute_result",
          "data": {
            "text/plain": [
              "[<matplotlib.lines.Line2D at 0x7ff15a2ff630>]"
            ]
          },
          "metadata": {
            "tags": []
          },
          "execution_count": 18
        },
        {
          "output_type": "display_data",
          "data": {
            "image/png": "[encoded data removed]",
            "text/plain": [
              "<Figure size 432x288 with 1 Axes>"
            ]
          },
          "metadata": {
            "tags": [],
            "needs_background": "light"
          }
        }
      ]
    },
    {
      "cell_type": "code",
      "metadata": {
        "id": "JdYzADydS3wQ",
        "outputId": "08b64d00-dc0f-4c17-f144-4f2960393e0c",
        "colab": {
          "base_uri": "https://localhost:8080/",
          "height": 265
        }
      },
      "source": [
        "plt.plot(k, exec0 ,label=\"Silhouette\")\n",
        "plt.plot(k, exec1 ,label=\"Calinski Harabasz\")\n",
        "plt.plot(k, exec2 ,label=\"Davies Bouldin\")\n",
        "\n",
        "plt.show()"
      ],
      "execution_count": 19,
      "outputs": [
        {
          "output_type": "display_data",
          "data": {
            "image/png": "[encoded data removed]",
            "text/plain": [
              "<Figure size 432x288 with 1 Axes>"
            ]
          },
          "metadata": {
            "tags": [],
            "needs_background": "light"
          }
        }
      ]
    },
    {
      "cell_type": "markdown",
      "metadata": {
        "id": "2cmio2sCHFeJ"
      },
      "source": [
        "## 2.2 Limites clustering K-means\n"
      ]
    },
    {
      "cell_type": "markdown",
      "metadata": {
        "id": "Hy9N46wRJD3E"
      },
      "source": [
        "* Test sur s-set4.arff => On s'attends à ne rien avoir\n",
        "* Test sur dartboard1.artff => Il n'arrive pas à obtenir le bon résultat\n",
        "* Test sur 2sp2glob.artff => Il fonctionne sur les taches mais pas sur la forme convexe\n",
        "\n"
      ]
    },
    {
      "cell_type": "code",
      "metadata": {
        "id": "eIQYS7Q0Jlg6"
      },
      "source": [
        ""
      ],
      "execution_count": 19,
      "outputs": []
    },
    {
      "cell_type": "markdown",
      "metadata": {
        "id": "jdygNBdcRGHx"
      },
      "source": [
        "#3 Clustering agglomératif"
      ]
    },
    {
      "cell_type": "markdown",
      "metadata": {
        "id": "Y2GenDXPRINE"
      },
      "source": [
        "##3.1 Intérêts de la méthode"
      ]
    },
    {
      "cell_type": "markdown",
      "metadata": {
        "id": "luxfDQ47RMDm"
      },
      "source": [
        "Choisissez quelques (2 ou 3) jeux de données pour lesquels il vous semble que la méthode de clustering aggomératif devrait identifier correctement les clusters.\n",
        "\n",
        "Nous avons ainsi décidé de selectionner : "
      ]
    },
    {
      "cell_type": "code",
      "metadata": {
        "id": "cEbEiXu2SC80"
      },
      "source": [
        "from sklearn.cluster import AgglomerativeClustering"
      ],
      "execution_count": 20,
      "outputs": []
    },
    {
      "cell_type": "code",
      "metadata": {
        "id": "frf3AcTbSHAS",
        "outputId": "47824094-d98a-4cba-90bb-79f2919750c9",
        "colab": {
          "base_uri": "https://localhost:8080/"
        }
      },
      "source": [
        "cluster_data=returnData(data1)\n",
        "cluster = AgglomerativeClustering(n_clusters=9, affinity='euclidean', linkage='complete').fit(cluster_data)\n",
        "print(cluster)\n",
        "labels = cluster.labels_"
      ],
      "execution_count": 56,
      "outputs": [
        {
          "output_type": "stream",
          "text": [
            "AgglomerativeClustering(affinity='euclidean', compute_full_tree='auto',\n",
            "                        connectivity=None, distance_threshold=None,\n",
            "                        linkage='complete', memory=None, n_clusters=9)\n"
          ],
          "name": "stdout"
        }
      ]
    },
    {
      "cell_type": "code",
      "metadata": {
        "id": "xLrRtvVBUEmO",
        "outputId": "f0bb423e-87ee-4bf2-b1ce-fa1a69bc5c55",
        "colab": {
          "base_uri": "https://localhost:8080/",
          "height": 282
        }
      },
      "source": [
        "plt.scatter(cluster_data[:,0],cluster_data[:,1], c=labels, cmap='rainbow')"
      ],
      "execution_count": 57,
      "outputs": [
        {
          "output_type": "execute_result",
          "data": {
            "text/plain": [
              "<matplotlib.collections.PathCollection at 0x7ff162699550>"
            ]
          },
          "metadata": {
            "tags": []
          },
          "execution_count": 57
        },
        {
          "output_type": "display_data",
          "data": {
            "image/png": "[encoded data removed]",
            "text/plain": [
              "<Figure size 432x288 with 1 Axes>"
            ]
          },
          "metadata": {
            "tags": [],
            "needs_background": "light"
          }
        }
      ]
    },
    {
      "cell_type": "markdown",
      "metadata": {
        "id": "9XfjHXO5YI8X"
      },
      "source": [
        "- Silhouette coefficient\n"
      ]
    },
    {
      "cell_type": "code",
      "metadata": {
        "id": "b1DvooBBYLZq",
        "outputId": "ee0d9c0a-4f72-442d-9f70-3663c994e6e2",
        "colab": {
          "base_uri": "https://localhost:8080/"
        }
      },
      "source": [
        "res = []\n",
        "for i in range (2,11):\n",
        "  start_time = time.time()\n",
        "  cluster = AgglomerativeClustering(n_clusters=i, affinity='euclidean', linkage='single').fit(cluster_data)\n",
        "  end_time = time.time()\n",
        "  time_final  = end_time - start_time\n",
        "  labels = cluster.labels_\n",
        "  met = metrics.silhouette_score(cluster_data, labels, metric='euclidean')\n",
        "  Dict = dict({'k': i, 'silhouette score': met, 'execution time': time_final})\n",
        "  res.append(Dict)\n",
        "print(*res, sep = \"\\n\")"
      ],
      "execution_count": 23,
      "outputs": [
        {
          "output_type": "stream",
          "text": [
            "{'k': 2, 'silhouette score': 0.2765263608063444, 'execution time': 0.06023979187011719}\n",
            "{'k': 3, 'silhouette score': 0.02996091241427347, 'execution time': 0.06116175651550293}\n",
            "{'k': 4, 'silhouette score': 0.016609401001720574, 'execution time': 0.05915117263793945}\n",
            "{'k': 5, 'silhouette score': -0.1565261364424422, 'execution time': 0.05716848373413086}\n",
            "{'k': 6, 'silhouette score': -0.1591724305624011, 'execution time': 0.059651851654052734}\n",
            "{'k': 7, 'silhouette score': -0.30097897652767724, 'execution time': 0.05729556083679199}\n",
            "{'k': 8, 'silhouette score': -0.33549791126078365, 'execution time': 0.05754375457763672}\n",
            "{'k': 9, 'silhouette score': -0.35314662907125594, 'execution time': 0.05725717544555664}\n",
            "{'k': 10, 'silhouette score': -0.35732076727197376, 'execution time': 0.058390140533447266}\n"
          ],
          "name": "stdout"
        }
      ]
    },
    {
      "cell_type": "markdown",
      "metadata": {
        "id": "lx9z_3Ycf2le"
      },
      "source": [
        "- Calinski-Harabasz Index\n"
      ]
    },
    {
      "cell_type": "code",
      "metadata": {
        "id": "pt_jIhpaf3xP",
        "outputId": "bba9d389-f814-4891-956a-e442cd8ccad4",
        "colab": {
          "base_uri": "https://localhost:8080/"
        }
      },
      "source": [
        "res = []\n",
        "for i in range (2,11):\n",
        "  start_time = time.time()\n",
        "  cluster = AgglomerativeClustering(n_clusters=i, affinity='euclidean', linkage='single').fit(cluster_data)\n",
        "  end_time = time.time()\n",
        "  time_final  = end_time - start_time\n",
        "  labels = cluster.labels_\n",
        "  met = metrics.calinski_harabasz_score(cluster_data, labels)\n",
        "  Dict = dict({'k': i, 'Calinski Harabasz score': met, 'execution time': time_final})\n",
        "  res.append(Dict)\n",
        "print(*res, sep = \"\\n\")"
      ],
      "execution_count": 24,
      "outputs": [
        {
          "output_type": "stream",
          "text": [
            "{'k': 2, 'Calinski Harabasz score': 3.8141824307357437, 'execution time': 0.058112382888793945}\n",
            "{'k': 3, 'Calinski Harabasz score': 4.407917332935697, 'execution time': 0.05691647529602051}\n",
            "{'k': 4, 'Calinski Harabasz score': 2.945492181587012, 'execution time': 0.05727696418762207}\n",
            "{'k': 5, 'Calinski Harabasz score': 2.4894838631891707, 'execution time': 0.0574338436126709}\n",
            "{'k': 6, 'Calinski Harabasz score': 2.520097342483128, 'execution time': 0.05757260322570801}\n",
            "{'k': 7, 'Calinski Harabasz score': 2.111508951164628, 'execution time': 0.061126708984375}\n",
            "{'k': 8, 'Calinski Harabasz score': 2.0780902038740123, 'execution time': 0.05691647529602051}\n",
            "{'k': 9, 'Calinski Harabasz score': 2.432510656779936, 'execution time': 0.05862140655517578}\n",
            "{'k': 10, 'Calinski Harabasz score': 2.437456356463215, 'execution time': 0.05848813056945801}\n"
          ],
          "name": "stdout"
        }
      ]
    },
    {
      "cell_type": "markdown",
      "metadata": {
        "id": "6lshnZwkdjjV"
      },
      "source": [
        "* Davies-Bouldin Index "
      ]
    },
    {
      "cell_type": "code",
      "metadata": {
        "id": "a7gX2763dkdU",
        "outputId": "655a8836-1647-4b4b-fdf5-0013781a7789",
        "colab": {
          "base_uri": "https://localhost:8080/"
        }
      },
      "source": [
        "res = []\n",
        "for i in range (2,11):\n",
        "  start_time = time.time()\n",
        "  cluster = AgglomerativeClustering(n_clusters=i, affinity='euclidean', linkage='single').fit(cluster_data)\n",
        "  end_time = time.time()\n",
        "  time_final  = end_time - start_time\n",
        "  labels = cluster.labels_\n",
        "  met = davies_bouldin_score(cluster_data, labels)\n",
        "  Dict = dict({'k': i, 'Davies Bouldin score': met, 'execution time': time_final})\n",
        "  res.append(Dict)\n",
        "print(*res, sep = \"\\n\")"
      ],
      "execution_count": 25,
      "outputs": [
        {
          "output_type": "stream",
          "text": [
            "{'k': 2, 'Davies Bouldin score': 0.49409798410976974, 'execution time': 0.05995917320251465}\n",
            "{'k': 3, 'Davies Bouldin score': 0.6174199326691526, 'execution time': 0.05736112594604492}\n",
            "{'k': 4, 'Davies Bouldin score': 0.5881686708728915, 'execution time': 0.05727267265319824}\n",
            "{'k': 5, 'Davies Bouldin score': 0.707701000126813, 'execution time': 0.06308984756469727}\n",
            "{'k': 6, 'Davies Bouldin score': 0.6885090918257397, 'execution time': 0.059356689453125}\n",
            "{'k': 7, 'Davies Bouldin score': 1.48445018084059, 'execution time': 0.05929112434387207}\n",
            "{'k': 8, 'Davies Bouldin score': 1.3884381280734974, 'execution time': 0.05808210372924805}\n",
            "{'k': 9, 'Davies Bouldin score': 1.3347761096126598, 'execution time': 0.05733990669250488}\n",
            "{'k': 10, 'Davies Bouldin score': 1.263740296231992, 'execution time': 0.05741095542907715}\n"
          ],
          "name": "stdout"
        }
      ]
    },
    {
      "cell_type": "markdown",
      "metadata": {
        "id": "EYpW1e4ob2zQ"
      },
      "source": [
        "## 3.2 Limites de la méthode\n"
      ]
    },
    {
      "cell_type": "markdown",
      "metadata": {
        "id": "H3c3EIrodWzj"
      },
      "source": [
        "Limites : \n",
        "\n",
        "1.   engytime\n",
        "2.   disk-3000n\n",
        "\n"
      ]
    },
    {
      "cell_type": "code",
      "metadata": {
        "id": "tTK0-puLc0jG",
        "outputId": "3e25a204-9c8c-4c40-886c-a84ff56e61f6",
        "colab": {
          "base_uri": "https://localhost:8080/",
          "height": 332
        }
      },
      "source": [
        "cluster_data=returnData(engytime)\n",
        "cluster = AgglomerativeClustering(n_clusters=2, affinity='euclidean', linkage='ward').fit(cluster_data)\n",
        "print(cluster)\n",
        "labels = cluster.labels_\n",
        "plt.scatter(cluster_data[:,0],cluster_data[:,1], c=labels, cmap='rainbow')"
      ],
      "execution_count": 26,
      "outputs": [
        {
          "output_type": "stream",
          "text": [
            "AgglomerativeClustering(affinity='euclidean', compute_full_tree='auto',\n",
            "                        connectivity=None, distance_threshold=None,\n",
            "                        linkage='ward', memory=None, n_clusters=2)\n"
          ],
          "name": "stdout"
        },
        {
          "output_type": "execute_result",
          "data": {
            "text/plain": [
              "<matplotlib.collections.PathCollection at 0x7ff159ab9828>"
            ]
          },
          "metadata": {
            "tags": []
          },
          "execution_count": 26
        },
        {
          "output_type": "display_data",
          "data": {
            "image/png": "[encoded data removed]",
            "text/plain": [
              "<Figure size 432x288 with 1 Axes>"
            ]
          },
          "metadata": {
            "tags": [],
            "needs_background": "light"
          }
        }
      ]
    },
    {
      "cell_type": "markdown",
      "metadata": {
        "id": "ZEswfppLf_wj"
      },
      "source": [
        "#4 Clustering DBSCAN\n",
        "\n"
      ]
    },
    {
      "cell_type": "markdown",
      "metadata": {
        "id": "fjVcczgRgGQj"
      },
      "source": [
        "##4.1 Intérêts de la méthode"
      ]
    },
    {
      "cell_type": "code",
      "metadata": {
        "id": "0Mn3pvnyhLaQ"
      },
      "source": [
        "from sklearn.cluster import DBSCAN"
      ],
      "execution_count": 66,
      "outputs": []
    },
    {
      "cell_type": "code",
      "metadata": {
        "id": "PLEcayc0l_0h",
        "outputId": "0155f770-eb98-4ee4-f9f3-8f8dc0766b52",
        "colab": {
          "base_uri": "https://localhost:8080/",
          "height": 282
        }
      },
      "source": [
        "from sklearn.neighbors import NearestNeighbors\n",
        "X=returnData(data)\n",
        "neigh = NearestNeighbors(n_neighbors=2)\n",
        "nbrs = neigh.fit(X)\n",
        "distances, indices = nbrs.kneighbors(X)\n",
        "distances = np.sort(distances, axis=0)\n",
        "distances = distances[:,1]\n",
        "plt.plot(distances)"
      ],
      "execution_count": 67,
      "outputs": [
        {
          "output_type": "execute_result",
          "data": {
            "text/plain": [
              "[<matplotlib.lines.Line2D at 0x7ff163e8f978>]"
            ]
          },
          "metadata": {
            "tags": []
          },
          "execution_count": 67
        },
        {
          "output_type": "display_data",
          "data": {
            "image/png": "[encoded data removed]",
            "text/plain": [
              "<Figure size 432x288 with 1 Axes>"
            ]
          },
          "metadata": {
            "tags": [],
            "needs_background": "light"
          }
        }
      ]
    },
    {
      "cell_type": "code",
      "metadata": {
        "id": "YqH7_BVLqh0l",
        "outputId": "82fdc4d7-9efd-4f62-d4b8-37de3e4d7a1c",
        "colab": {
          "base_uri": "https://localhost:8080/",
          "height": 370
        }
      },
      "source": [
        "res = []\n",
        "range_eps = [0.1, 0.15, 0.20, 0.25, 0.3, 0.35, 0.4, 0.45, 0.5, 0.55, 0.6, 0.65, 0.7, 0.75]\n",
        "cluster_data=returnData(data)\n",
        "\n",
        "for i in range_eps:\n",
        "  start_time = time.time()\n",
        "  dbData =DBSCAN(eps=i, min_samples=5).fit(cluster_data)\n",
        "  end_time = time.time()\n",
        "  time_final  = end_time - start_time\n",
        "  labels = dbData.labels_\n",
        "  met = metrics.silhouette_score(cluster_data, labels, metric='euclidean')\n",
        "  Dict = dict({'eps': i, 'silhouette score': met, 'execution time': time_final})\n",
        "  res.append(Dict)\n",
        "print(*res, sep = \"\\n\")"
      ],
      "execution_count": 69,
      "outputs": [
        {
          "output_type": "error",
          "ename": "ValueError",
          "evalue": "ignored",
          "traceback": [
            "\u001b[0;31m---------------------------------------------------------------------------\u001b[0m",
            "\u001b[0;31mValueError\u001b[0m                                Traceback (most recent call last)",
            "\u001b[0;32m<ipython-input-69-c6e34e569aa6>\u001b[0m in \u001b[0;36m<module>\u001b[0;34m()\u001b[0m\n\u001b[1;32m      9\u001b[0m   \u001b[0mtime_final\u001b[0m  \u001b[0;34m=\u001b[0m \u001b[0mend_time\u001b[0m \u001b[0;34m-\u001b[0m \u001b[0mstart_time\u001b[0m\u001b[0;34m\u001b[0m\u001b[0;34m\u001b[0m\u001b[0m\n\u001b[1;32m     10\u001b[0m   \u001b[0mlabels\u001b[0m \u001b[0;34m=\u001b[0m \u001b[0mdbData\u001b[0m\u001b[0;34m.\u001b[0m\u001b[0mlabels_\u001b[0m\u001b[0;34m\u001b[0m\u001b[0;34m\u001b[0m\u001b[0m\n\u001b[0;32m---> 11\u001b[0;31m   \u001b[0mmet\u001b[0m \u001b[0;34m=\u001b[0m \u001b[0mmetrics\u001b[0m\u001b[0;34m.\u001b[0m\u001b[0msilhouette_score\u001b[0m\u001b[0;34m(\u001b[0m\u001b[0mcluster_data\u001b[0m\u001b[0;34m,\u001b[0m \u001b[0mlabels\u001b[0m\u001b[0;34m,\u001b[0m \u001b[0mmetric\u001b[0m\u001b[0;34m=\u001b[0m\u001b[0;34m'euclidean'\u001b[0m\u001b[0;34m)\u001b[0m\u001b[0;34m\u001b[0m\u001b[0;34m\u001b[0m\u001b[0m\n\u001b[0m\u001b[1;32m     12\u001b[0m   \u001b[0mDict\u001b[0m \u001b[0;34m=\u001b[0m \u001b[0mdict\u001b[0m\u001b[0;34m(\u001b[0m\u001b[0;34m{\u001b[0m\u001b[0;34m'eps'\u001b[0m\u001b[0;34m:\u001b[0m \u001b[0mi\u001b[0m\u001b[0;34m,\u001b[0m \u001b[0;34m'silhouette score'\u001b[0m\u001b[0;34m:\u001b[0m \u001b[0mmet\u001b[0m\u001b[0;34m,\u001b[0m \u001b[0;34m'execution time'\u001b[0m\u001b[0;34m:\u001b[0m \u001b[0mtime_final\u001b[0m\u001b[0;34m}\u001b[0m\u001b[0;34m)\u001b[0m\u001b[0;34m\u001b[0m\u001b[0;34m\u001b[0m\u001b[0m\n\u001b[1;32m     13\u001b[0m   \u001b[0mres\u001b[0m\u001b[0;34m.\u001b[0m\u001b[0mappend\u001b[0m\u001b[0;34m(\u001b[0m\u001b[0mDict\u001b[0m\u001b[0;34m)\u001b[0m\u001b[0;34m\u001b[0m\u001b[0;34m\u001b[0m\u001b[0m\n",
            "\u001b[0;32m/usr/local/lib/python3.6/dist-packages/sklearn/metrics/cluster/_unsupervised.py\u001b[0m in \u001b[0;36msilhouette_score\u001b[0;34m(X, labels, metric, sample_size, random_state, **kwds)\u001b[0m\n\u001b[1;32m    115\u001b[0m         \u001b[0;32melse\u001b[0m\u001b[0;34m:\u001b[0m\u001b[0;34m\u001b[0m\u001b[0;34m\u001b[0m\u001b[0m\n\u001b[1;32m    116\u001b[0m             \u001b[0mX\u001b[0m\u001b[0;34m,\u001b[0m \u001b[0mlabels\u001b[0m \u001b[0;34m=\u001b[0m \u001b[0mX\u001b[0m\u001b[0;34m[\u001b[0m\u001b[0mindices\u001b[0m\u001b[0;34m]\u001b[0m\u001b[0;34m,\u001b[0m \u001b[0mlabels\u001b[0m\u001b[0;34m[\u001b[0m\u001b[0mindices\u001b[0m\u001b[0;34m]\u001b[0m\u001b[0;34m\u001b[0m\u001b[0;34m\u001b[0m\u001b[0m\n\u001b[0;32m--> 117\u001b[0;31m     \u001b[0;32mreturn\u001b[0m \u001b[0mnp\u001b[0m\u001b[0;34m.\u001b[0m\u001b[0mmean\u001b[0m\u001b[0;34m(\u001b[0m\u001b[0msilhouette_samples\u001b[0m\u001b[0;34m(\u001b[0m\u001b[0mX\u001b[0m\u001b[0;34m,\u001b[0m \u001b[0mlabels\u001b[0m\u001b[0;34m,\u001b[0m \u001b[0mmetric\u001b[0m\u001b[0;34m=\u001b[0m\u001b[0mmetric\u001b[0m\u001b[0;34m,\u001b[0m \u001b[0;34m**\u001b[0m\u001b[0mkwds\u001b[0m\u001b[0;34m)\u001b[0m\u001b[0;34m)\u001b[0m\u001b[0;34m\u001b[0m\u001b[0;34m\u001b[0m\u001b[0m\n\u001b[0m\u001b[1;32m    118\u001b[0m \u001b[0;34m\u001b[0m\u001b[0m\n\u001b[1;32m    119\u001b[0m \u001b[0;34m\u001b[0m\u001b[0m\n",
            "\u001b[0;32m/usr/local/lib/python3.6/dist-packages/sklearn/metrics/cluster/_unsupervised.py\u001b[0m in \u001b[0;36msilhouette_samples\u001b[0;34m(X, labels, metric, **kwds)\u001b[0m\n\u001b[1;32m    226\u001b[0m     \u001b[0mn_samples\u001b[0m \u001b[0;34m=\u001b[0m \u001b[0mlen\u001b[0m\u001b[0;34m(\u001b[0m\u001b[0mlabels\u001b[0m\u001b[0;34m)\u001b[0m\u001b[0;34m\u001b[0m\u001b[0;34m\u001b[0m\u001b[0m\n\u001b[1;32m    227\u001b[0m     \u001b[0mlabel_freqs\u001b[0m \u001b[0;34m=\u001b[0m \u001b[0mnp\u001b[0m\u001b[0;34m.\u001b[0m\u001b[0mbincount\u001b[0m\u001b[0;34m(\u001b[0m\u001b[0mlabels\u001b[0m\u001b[0;34m)\u001b[0m\u001b[0;34m\u001b[0m\u001b[0;34m\u001b[0m\u001b[0m\n\u001b[0;32m--> 228\u001b[0;31m     \u001b[0mcheck_number_of_labels\u001b[0m\u001b[0;34m(\u001b[0m\u001b[0mlen\u001b[0m\u001b[0;34m(\u001b[0m\u001b[0mle\u001b[0m\u001b[0;34m.\u001b[0m\u001b[0mclasses_\u001b[0m\u001b[0;34m)\u001b[0m\u001b[0;34m,\u001b[0m \u001b[0mn_samples\u001b[0m\u001b[0;34m)\u001b[0m\u001b[0;34m\u001b[0m\u001b[0;34m\u001b[0m\u001b[0m\n\u001b[0m\u001b[1;32m    229\u001b[0m \u001b[0;34m\u001b[0m\u001b[0m\n\u001b[1;32m    230\u001b[0m     \u001b[0mkwds\u001b[0m\u001b[0;34m[\u001b[0m\u001b[0;34m'metric'\u001b[0m\u001b[0;34m]\u001b[0m \u001b[0;34m=\u001b[0m \u001b[0mmetric\u001b[0m\u001b[0;34m\u001b[0m\u001b[0;34m\u001b[0m\u001b[0m\n",
            "\u001b[0;32m/usr/local/lib/python3.6/dist-packages/sklearn/metrics/cluster/_unsupervised.py\u001b[0m in \u001b[0;36mcheck_number_of_labels\u001b[0;34m(n_labels, n_samples)\u001b[0m\n\u001b[1;32m     33\u001b[0m     \u001b[0;32mif\u001b[0m \u001b[0;32mnot\u001b[0m \u001b[0;36m1\u001b[0m \u001b[0;34m<\u001b[0m \u001b[0mn_labels\u001b[0m \u001b[0;34m<\u001b[0m \u001b[0mn_samples\u001b[0m\u001b[0;34m:\u001b[0m\u001b[0;34m\u001b[0m\u001b[0;34m\u001b[0m\u001b[0m\n\u001b[1;32m     34\u001b[0m         raise ValueError(\"Number of labels is %d. Valid values are 2 \"\n\u001b[0;32m---> 35\u001b[0;31m                          \"to n_samples - 1 (inclusive)\" % n_labels)\n\u001b[0m\u001b[1;32m     36\u001b[0m \u001b[0;34m\u001b[0m\u001b[0m\n\u001b[1;32m     37\u001b[0m \u001b[0;34m\u001b[0m\u001b[0m\n",
            "\u001b[0;31mValueError\u001b[0m: Number of labels is 1. Valid values are 2 to n_samples - 1 (inclusive)"
          ]
        }
      ]
    },
    {
      "cell_type": "code",
      "metadata": {
        "id": "m7DZACYNhPEm",
        "outputId": "c0528261-c269-4b52-e686-37fb143e0bfa",
        "colab": {
          "base_uri": "https://localhost:8080/",
          "height": 315
        }
      },
      "source": [
        "cluster_data=returnData(data3)\n",
        "dbData =DBSCAN(eps=0.6, min_samples=5).fit(cluster_data)\n",
        "print(dbData)\n",
        "labels = dbData.labels_\n",
        "plt.scatter(cluster_data[:,0],cluster_data[:,1], c=labels, cmap='rainbow')"
      ],
      "execution_count": 70,
      "outputs": [
        {
          "output_type": "stream",
          "text": [
            "DBSCAN(algorithm='auto', eps=0.6, leaf_size=30, metric='euclidean',\n",
            "       metric_params=None, min_samples=5, n_jobs=None, p=None)\n"
          ],
          "name": "stdout"
        },
        {
          "output_type": "execute_result",
          "data": {
            "text/plain": [
              "<matplotlib.collections.PathCollection at 0x7ff163e33358>"
            ]
          },
          "metadata": {
            "tags": []
          },
          "execution_count": 70
        },
        {
          "output_type": "display_data",
          "data": {
            "image/png": "[encoded data removed]",
            "text/plain": [
              "<Figure size 432x288 with 1 Axes>"
            ]
          },
          "metadata": {
            "tags": [],
            "needs_background": "light"
          }
        }
      ]
    },
    {
      "cell_type": "markdown",
      "metadata": {
        "id": "nJVld5CjhsQm"
      },
      "source": [
        "#5 Clustering HDBSCAN\n"
      ]
    },
    {
      "cell_type": "code",
      "metadata": {
        "id": "p4E0eayDNNcA"
      },
      "source": [
        "pip install --upgrade git+https://github.com/scikit-learn-contrib/hdbscan.git#egg=hdbscan"
      ],
      "execution_count": null,
      "outputs": []
    },
    {
      "cell_type": "code",
      "metadata": {
        "id": "mtRYLv5HjLbt"
      },
      "source": [
        "#Installation de HDBScan selon le lien git fournie\n",
        "\n",
        "#pip install --upgrade git+https://github.com/scikit-learn-contrib/hdbscan.git#egg=hdbscan"
      ],
      "execution_count": null,
      "outputs": []
    },
    {
      "cell_type": "code",
      "metadata": {
        "id": "WuIfW66oijBY"
      },
      "source": [
        "import hdbscan\n",
        "\n",
        "from sklearn.neighbors import NearestNeighbors\n",
        "\n",
        "X=returnData(data3)\n",
        "neigh = NearestNeighbors(n_neighbors=2)\n",
        "nbrs = neigh.fit(X)\n",
        "distances, indices = nbrs.kneighbors(X)\n",
        "distances = np.sort(distances, axis=0)\n",
        "distances = distances[:,1]\n",
        "plt.plot(distances)"
      ],
      "execution_count": null,
      "outputs": []
    },
    {
      "cell_type": "code",
      "metadata": {
        "id": "cxP72u5Wll17"
      },
      "source": [
        "cluster_data2=returnData(data2)\n",
        "cluster = hdbscan.HDBSCAN(min_cluster_size=10).fit(cluster_data2)\n",
        "print(cluster)\n",
        "labels = cluster.labels_"
      ],
      "execution_count": null,
      "outputs": []
    },
    {
      "cell_type": "code",
      "metadata": {
        "id": "ru_Qgbwql44f"
      },
      "source": [
        "plt.scatter(cluster_data2[:,0],cluster_data2[:,1], c=labels, cmap='rainbow')"
      ],
      "execution_count": null,
      "outputs": []
    },
    {
      "cell_type": "code",
      "metadata": {
        "id": "M8J0HCQ6mSU_"
      },
      "source": [
        "res = []\n",
        "range_eps = [0.1, 0.15, 0.20, 0.25, 0.3, 0.35, 0.4, 0.45, 0.5, 0.55, 0.6, 0.65, 0.7, 0.75]\n",
        "cluster_data=returnData(data3)\n",
        "for i in range_eps:\n",
        "  start_time = time.time()\n",
        "  dbData =hdbscan.HDBSCAN(min_cluster_size=10).fit(cluster_data)\n",
        "  end_time = time.time()\n",
        "  time_final  = end_time - start_time\n",
        "  labels = dbData.labels_\n",
        "  met = metrics.silhouette_score(cluster_data, labels, metric='euclidean')\n",
        "  Dict = dict({'eps': i, 'silhouette score': met, 'execution time': time_final})\n",
        "  res.append(Dict)\n",
        "print(*res, sep = \"\\n\")"
      ],
      "execution_count": null,
      "outputs": []
    },
    {
      "cell_type": "markdown",
      "metadata": {
        "id": "jUbZbSxto1v6"
      },
      "source": [
        "*Ajouter Davies-Bouldin et Calinski-Harabasz ?*\n"
      ]
    },
    {
      "cell_type": "markdown",
      "metadata": {
        "id": "TeRS-U2Viomi"
      },
      "source": [
        "Reprenez les expérimentations effectuées avec DBSCAN. Comparez les résultats de ces deux méthodes.\n",
        "\n",
        "\n",
        "Arrivez-vous à retrouver les qualités et les limites de ces deux méthodes sur les jeux de données sélectionnés ? Y-at-il des diférences de performances (en temps de calcul) ?"
      ]
    },
    {
      "cell_type": "markdown",
      "metadata": {
        "id": "MZb0CGuQpwGO"
      },
      "source": [
        "\n",
        "\n",
        "> Lien : https://www.overleaf.com/1276839189pybcnncxmrxw\n",
        "\n",
        "\n"
      ]
    },
    {
      "cell_type": "markdown",
      "metadata": {
        "id": "IrDXnXotOBiX"
      },
      "source": [
        "#6 Synthèse\n"
      ]
    },
    {
      "cell_type": "markdown",
      "metadata": {
        "id": "3ckrcuaJOIll"
      },
      "source": [
        "##6.1 Dataset de données générées aléatoirement"
      ]
    },
    {
      "cell_type": "markdown",
      "metadata": {
        "id": "P078BxuUOavh"
      },
      "source": [
        "L'objectif est de réaliser une analyse expérimentale comparative de différentes méthodes de clustering"
      ]
    },
    {
      "cell_type": "code",
      "metadata": {
        "id": "VKci48QySR-e"
      },
      "source": [
        "import sklearn\n",
        "import numpy\n",
        "from sklearn import datasets\n",
        "from pprint import pprint"
      ],
      "execution_count": null,
      "outputs": []
    },
    {
      "cell_type": "code",
      "metadata": {
        "id": "jKRYgGUGOnt5"
      },
      "source": [
        "test= os.chdir(\"/content/gdrive/My Drive/5SDBD/clustering-benchmark-master/dataset\")\n",
        "!ls"
      ],
      "execution_count": null,
      "outputs": []
    },
    {
      "cell_type": "code",
      "metadata": {
        "id": "yuKHeayzRcyt"
      },
      "source": [
        "datax1= numpy.loadtxt('/content/gdrive/My Drive/5SDBD/clustering-benchmark-master/dataset/x1.txt')\n",
        "datax2= numpy.loadtxt('/content/gdrive/My Drive/5SDBD/clustering-benchmark-master/dataset/x2.txt')\n",
        "datax3= numpy.loadtxt('/content/gdrive/My Drive/5SDBD/clustering-benchmark-master/dataset/x3.txt')\n",
        "datax4= numpy.loadtxt('/content/gdrive/My Drive/5SDBD/clustering-benchmark-master/dataset/x4.txt')\n",
        "datay1= numpy.loadtxt('/content/gdrive/My Drive/5SDBD/clustering-benchmark-master/dataset/y1.txt')"
      ],
      "execution_count": null,
      "outputs": []
    },
    {
      "cell_type": "code",
      "metadata": {
        "id": "-Bo2OImOYLjw"
      },
      "source": [
        "###############################################\n",
        "#\n",
        "# Merci de modifier uniquement ces 2 valeurs\n",
        "#\n",
        "###############################################\n",
        "\n",
        "data= datay1\n",
        "nk = 16    #Nombre cluster\n",
        "print(data)"
      ],
      "execution_count": null,
      "outputs": []
    },
    {
      "cell_type": "code",
      "metadata": {
        "id": "PvtYB35sT4w_"
      },
      "source": [
        "import matplotlib.pyplot as plt\n",
        "import numpy as np\n",
        "\n",
        "X=returnData(data)\n",
        "\n",
        "plt.scatter(X[:,0],X[:,1])\n",
        "\n",
        "plt.savefig('datay1.png')"
      ],
      "execution_count": null,
      "outputs": []
    },
    {
      "cell_type": "markdown",
      "metadata": {
        "id": "NyBtCxaTQUP1"
      },
      "source": [
        "###6.1.1 Clustering k-Means\n",
        "\n",
        "\n"
      ]
    },
    {
      "cell_type": "code",
      "metadata": {
        "id": "mt5BrKbMUe0e"
      },
      "source": [
        "kmeans_data=returnData(data)\n",
        "kmeans = KMeans(n_clusters=nk, random_state=0, init='k-means++').fit(kmeans_data)\n",
        "print(kmeans)\n",
        "labels = kmeans.labels_"
      ],
      "execution_count": null,
      "outputs": []
    },
    {
      "cell_type": "code",
      "metadata": {
        "id": "Kg6A8gCIUkTk"
      },
      "source": [
        "import matplotlib\n",
        "matplotlib.axes.Axes.scatter\n",
        "matplotlib.pyplot.scatter\n",
        "matplotlib.axes.Axes.legend\n",
        "matplotlib.pyplot.legend\n",
        "matplotlib.collections.PathCollection.legend_elements\n",
        "plt.scatter(kmeans_data[:,0],kmeans_data[:,1], c=labels, cmap='rainbow')\n",
        "plt.savefig('datay1Kmeans16.png')"
      ],
      "execution_count": null,
      "outputs": []
    },
    {
      "cell_type": "code",
      "metadata": {
        "id": "e6woyv5UVfxt"
      },
      "source": [
        "res = []\n",
        "plotkmeans = []\n",
        "k = []\n",
        "for i in range (nk-1,nk+1):\n",
        "  start_time = time.time()\n",
        "  kmeans = KMeans(n_clusters=i, random_state=0, init='k-means++').fit(kmeans_data)\n",
        "  end_time = time.time()\n",
        "  time_final  = end_time - start_time\n",
        "  labels = kmeans.labels_\n",
        "  met = metrics.silhouette_score(kmeans_data, labels, metric='euclidean')\n",
        "  plotkmeans.append(met)\n",
        "  Dict = dict({'k': i, 'silhouette score': met, 'execution time': time_final})\n",
        "  k.append(i)\n",
        "  res.append(Dict)\n",
        "print(*res, sep = \"\\n\")\n"
      ],
      "execution_count": null,
      "outputs": []
    },
    {
      "cell_type": "code",
      "metadata": {
        "id": "b4gvW1ARcdym"
      },
      "source": [
        "plt.plot(k, plotkmeans ,label=\"Silhouette\")\n",
        "plt.xlabel(\"Number of clusters\")\n",
        "plt.ylabel(\"Silhouette score\")\n",
        "plt.grid()\n",
        "plt.savefig('datay1KmeansSilhouette.png')"
      ],
      "execution_count": null,
      "outputs": []
    },
    {
      "cell_type": "code",
      "metadata": {
        "id": "SvprfoASVgSV"
      },
      "source": [
        "res = []\n",
        "plotkmeansCH = []\n",
        "k = []\n",
        "for i in range (nk-7,nk+7):\n",
        "  start_time = time.time()\n",
        "  kmeans = KMeans(n_clusters=i, random_state=0, init='k-means++').fit(kmeans_data)\n",
        "  end_time = time.time()\n",
        "  time_final  = end_time - start_time\n",
        "  labels = kmeans.labels_\n",
        "  met = metrics.calinski_harabasz_score(kmeans_data, labels)\n",
        "  plotkmeansCH.append(met)\n",
        "  k.append(i)\n",
        "  Dict = dict({'k': i, 'Calinski Harabasz score': met, 'execution time': time_final})\n",
        "  res.append(Dict)\n",
        "print(*res, sep = \"\\n\")"
      ],
      "execution_count": null,
      "outputs": []
    },
    {
      "cell_type": "code",
      "metadata": {
        "id": "P-QzZsTyeXUb"
      },
      "source": [
        "plt.plot(k, plotkmeansCH ,label=\"Calinski Harabasz\")\n",
        "plt.xlabel(\"Number of clusters\")\n",
        "plt.ylabel(\"Calinski Harabasz score\")\n",
        "plt.grid()\n",
        "plt.savefig('datay1KmeansCalinskiHarabasz.png')"
      ],
      "execution_count": null,
      "outputs": []
    },
    {
      "cell_type": "code",
      "metadata": {
        "id": "b4IinJMnVjbF"
      },
      "source": [
        "res = []\n",
        "plotkmeansDB = []\n",
        "k = []\n",
        "for i in range (nk-7,nk+7):\n",
        "  start_time = time.time()\n",
        "  kmeans = KMeans(n_clusters=i, random_state=0, init='k-means++').fit(kmeans_data)\n",
        "  end_time = time.time()\n",
        "  time_final  = end_time - start_time\n",
        "  labels = kmeans.labels_\n",
        "  met = davies_bouldin_score(kmeans_data, labels)\n",
        "  plotkmeansDB.append(met)\n",
        "  k.append(i)\n",
        "  Dict = dict({'k': i, 'Davies Bouldin score': met, 'execution time': time_final})\n",
        "  res.append(Dict)\n",
        "print(*res, sep = \"\\n\")\n"
      ],
      "execution_count": null,
      "outputs": []
    },
    {
      "cell_type": "code",
      "metadata": {
        "id": "BtMLY2Swffag"
      },
      "source": [
        "plt.plot(k, plotkmeansDB ,label=\"Davies Bouldin\")\n",
        "plt.xlabel(\"Number of clusters\")\n",
        "plt.ylabel(\"Davies Bouldin score\")\n",
        "plt.grid()\n",
        "plt.savefig('datay1KmeansDaviesBouldin.png')"
      ],
      "execution_count": null,
      "outputs": []
    },
    {
      "cell_type": "markdown",
      "metadata": {
        "id": "TuJl_-OpQnUN"
      },
      "source": [
        "###6.1.2 Clustering agglomératif\n",
        "\n"
      ]
    },
    {
      "cell_type": "code",
      "metadata": {
        "id": "caLvLrUWQs3X"
      },
      "source": [
        "cluster_data=returnData(data)\n",
        "cluster = AgglomerativeClustering(n_clusters=9, affinity='euclidean', linkage='single').fit(cluster_data)\n",
        "print(cluster)\n",
        "labels = cluster.labels_"
      ],
      "execution_count": null,
      "outputs": []
    },
    {
      "cell_type": "code",
      "metadata": {
        "id": "x9C5qvMLYitA"
      },
      "source": [
        "plt.scatter(cluster_data[:,0],cluster_data[:,1], c=labels, cmap='rainbow')\n",
        "plt.savefig('datax1agglomerativeSingle9.png')"
      ],
      "execution_count": null,
      "outputs": []
    },
    {
      "cell_type": "code",
      "metadata": {
        "id": "Lkx_Q3iyYk19"
      },
      "source": [
        "res = []\n",
        "plotagglo = []\n",
        "k = []\n",
        "for i in range (nk-7,nk+7):\n",
        "  start_time = time.time()\n",
        "  cluster = AgglomerativeClustering(n_clusters=i, affinity='euclidean', linkage='complete').fit(cluster_data)\n",
        "  end_time = time.time()\n",
        "  time_final  = end_time - start_time\n",
        "  labels = cluster.labels_\n",
        "  met = metrics.silhouette_score(cluster_data, labels, metric='euclidean')\n",
        "  plotagglo.append(met)\n",
        "  k.append(i)\n",
        "  Dict = dict({'k': i, 'silhouette score': met, 'execution time': time_final})\n",
        "  res.append(Dict)\n",
        "print(*res, sep = \"\\n\")"
      ],
      "execution_count": null,
      "outputs": []
    },
    {
      "cell_type": "code",
      "metadata": {
        "id": "ZlgkKd68ga22"
      },
      "source": [
        "plt.plot(k, plotagglo ,label=\"Silhouette\")\n",
        "plt.xlabel(\"Silhouette score\")\n",
        "plt.ylabel(\"Number of clusters\")\n",
        "plt.grid()\n",
        "plt.savefig('datax1AggloCompleteSilhouette.png')"
      ],
      "execution_count": null,
      "outputs": []
    },
    {
      "cell_type": "code",
      "metadata": {
        "id": "PKDrsXFlY61u"
      },
      "source": [
        "res = []\n",
        "plotagglo = []\n",
        "k = []\n",
        "for i in range (nk-7,nk+7):\n",
        "  start_time = time.time()\n",
        "  cluster = AgglomerativeClustering(n_clusters=i, affinity='euclidean', linkage='complete').fit(cluster_data)\n",
        "  end_time = time.time()\n",
        "  time_final  = end_time - start_time\n",
        "  labels = cluster.labels_\n",
        "  met = metrics.calinski_harabasz_score(cluster_data, labels)\n",
        "  plotagglo.append(met)\n",
        "  k.append(i)\n",
        "  Dict = dict({'k': i, 'Calinski Harabasz score': met, 'execution time': time_final})\n",
        "  res.append(Dict)\n",
        "print(*res, sep = \"\\n\")"
      ],
      "execution_count": null,
      "outputs": []
    },
    {
      "cell_type": "code",
      "metadata": {
        "id": "eMS6sdmwh8zw"
      },
      "source": [
        "plt.plot(k, plotagglo ,label=\"Calinski Harabasz\")\n",
        "plt.xlabel(\"Calinski Harabasz score\")\n",
        "plt.ylabel(\"Number of clusters\")\n",
        "plt.grid()\n",
        "plt.savefig('datax1AggloCompleteCalinskiHarabasz.png')"
      ],
      "execution_count": null,
      "outputs": []
    },
    {
      "cell_type": "code",
      "metadata": {
        "id": "41EFoRzLY8dG"
      },
      "source": [
        "res = []\n",
        "plotagglo = []\n",
        "k = []\n",
        "for i in range (nk-7,nk+7):\n",
        "  start_time = time.time()\n",
        "  cluster = AgglomerativeClustering(n_clusters=i, affinity='euclidean', linkage='complete').fit(cluster_data)\n",
        "  end_time = time.time()\n",
        "  time_final  = end_time - start_time\n",
        "  labels = cluster.labels_\n",
        "  met = davies_bouldin_score(cluster_data, labels)\n",
        "  plotagglo.append(met)\n",
        "  k.append(i)\n",
        "  Dict = dict({'k': i, 'Davies Bouldin score': met, 'execution time': time_final})\n",
        "  res.append(Dict)\n",
        "print(*res, sep = \"\\n\")"
      ],
      "execution_count": null,
      "outputs": []
    },
    {
      "cell_type": "code",
      "metadata": {
        "id": "9KpxXxvyieiH"
      },
      "source": [
        "plt.plot(k, plotagglo ,label=\"Davies Bouldin\")\n",
        "plt.xlabel(\"Davies Bouldin score\")\n",
        "plt.ylabel(\"Number of clusters\")\n",
        "plt.grid()\n",
        "plt.savefig('datax1AggloCompleteDaviesBouldin.png')"
      ],
      "execution_count": null,
      "outputs": []
    },
    {
      "cell_type": "markdown",
      "metadata": {
        "id": "95wGpJmZQtAk"
      },
      "source": [
        "###6.1.3 Clustering DBSCAN"
      ]
    },
    {
      "cell_type": "code",
      "metadata": {
        "id": "9bnCLSwAQxCN"
      },
      "source": [
        "from sklearn.neighbors import NearestNeighbors\n",
        "\n",
        "X=returnData(data)\n",
        "neigh = NearestNeighbors(n_neighbors=2)\n",
        "nbrs = neigh.fit(X)\n",
        "distances, indices = nbrs.kneighbors(X)\n",
        "distances = np.sort(distances, axis=0)\n",
        "distances = distances[:,1]\n",
        "plt.ylim(top=15000) \n",
        "plt.plot(distances)"
      ],
      "execution_count": null,
      "outputs": []
    },
    {
      "cell_type": "code",
      "metadata": {
        "id": "Um416-K9ZjsI"
      },
      "source": [
        "res = []\n",
        "\n",
        "range_eps = [2000, 3000,  4000, 5000, 6000, 7000, 8000, 9000, 10000, 11000, 12000, 20000, 22000, 24000, 26000, 28000, 30000, 50000]\n",
        "ploteps = []\n",
        "k = []\n",
        "cluster_data=returnData(data)\n",
        "for i in range_eps:\n",
        "  start_time = time.time()\n",
        "  dbData =DBSCAN(eps=i, min_samples=5).fit(cluster_data)\n",
        "  end_time = time.time()\n",
        "  time_final  = end_time - start_time\n",
        "  labels = dbData.labels_\n",
        "  met = metrics.silhouette_score(cluster_data, labels, metric='euclidean')\n",
        "  ploteps.append(met)\n",
        "  k.append(i)\n",
        "  Dict = dict({'eps': i, 'silhouette score': met, 'execution time': time_final})\n",
        "  res.append(Dict)\n",
        "print(*res, sep = \"\\n\")"
      ],
      "execution_count": null,
      "outputs": []
    },
    {
      "cell_type": "code",
      "metadata": {
        "id": "uSBN6PlHoSQW"
      },
      "source": [
        "plt.plot(k, ploteps ,label=\"Silhouette to choose eps\")\n",
        "plt.xlabel(\"Eps value\")\n",
        "plt.ylabel(\"Silhouette score\")\n",
        "plt.grid()\n",
        "plt.savefig('datax1dbScanSilhouette.png')"
      ],
      "execution_count": null,
      "outputs": []
    },
    {
      "cell_type": "code",
      "metadata": {
        "id": "Q0oIUFNCZlou"
      },
      "source": [
        "cluster_data=returnData(data)\n",
        "dbData =DBSCAN(eps=20000, min_samples=5).fit(cluster_data)\n",
        "print(dbData)\n",
        "labels = dbData.labels_"
      ],
      "execution_count": null,
      "outputs": []
    },
    {
      "cell_type": "code",
      "metadata": {
        "id": "cM0IEI8Cp6w5"
      },
      "source": [
        "plt.scatter(cluster_data[:,0],cluster_data[:,1], c=labels, cmap='rainbow')\n",
        "plt.savefig('datax1dbScaneps20000.png')"
      ],
      "execution_count": null,
      "outputs": []
    },
    {
      "cell_type": "markdown",
      "metadata": {
        "id": "dLudxkYcQwa1"
      },
      "source": [
        "###6.1.4 Clustering HDBSCAN"
      ]
    },
    {
      "cell_type": "code",
      "metadata": {
        "id": "nbjgMBa8Q1EY"
      },
      "source": [
        "import hdbscan"
      ],
      "execution_count": null,
      "outputs": []
    },
    {
      "cell_type": "code",
      "metadata": {
        "id": "b7G3VmiRZpoY"
      },
      "source": [
        "cluster_data2=returnData(data)\n",
        "cluster = hdbscan.HDBSCAN(min_cluster_size=10).fit(cluster_data2)\n",
        "print(cluster)\n",
        "labels = cluster.labels_"
      ],
      "execution_count": null,
      "outputs": []
    },
    {
      "cell_type": "code",
      "metadata": {
        "id": "k-SojTGYZqoi"
      },
      "source": [
        "plt.scatter(cluster_data2[:,0],cluster_data2[:,1], c=labels, cmap='rainbow')\n",
        "plt.savefig('datax1hdbScaneps.png')"
      ],
      "execution_count": null,
      "outputs": []
    },
    {
      "cell_type": "markdown",
      "metadata": {
        "id": "fQc7dtZpORCI"
      },
      "source": [
        "##6.2 Dataset iris ou balance-scale (dimension 4)"
      ]
    },
    {
      "cell_type": "markdown",
      "metadata": {
        "id": "OUIxyJwrOjHA"
      },
      "source": [
        "L'objectif est de réaliser une analyse expérimentale comparative de différentes méthodes de clustering"
      ]
    }
  ]
}